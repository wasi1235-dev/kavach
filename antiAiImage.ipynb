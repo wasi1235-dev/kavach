{
 "cells": [
  {
   "cell_type": "code",
   "execution_count": 3,
   "metadata": {},
   "outputs": [],
   "source": [
    "import torch\n",
    "import json\n",
    "# Replace with your actual paths\n",
    "model_path = \"pytorch_model.bin\"\n",
    "config_path = \"config.json\"\n",
    "\n",
    "model_weights = torch.load(model_path, map_location=torch.device('cpu'))  # Load onto CPU\n",
    "\n",
    "# Load configuration if applicable (depends on the model)\n",
    "if config_path is not None:\n",
    "    with open(config_path, \"r\") as f:\n",
    "        config = json.load(f)"
   ]
  },
  {
   "cell_type": "code",
   "execution_count": null,
   "metadata": {},
   "outputs": [],
   "source": []
  }
 ],
 "metadata": {
  "kernelspec": {
   "display_name": "Python 3",
   "language": "python",
   "name": "python3"
  },
  "language_info": {
   "codemirror_mode": {
    "name": "ipython",
    "version": 3
   },
   "file_extension": ".py",
   "mimetype": "text/x-python",
   "name": "python",
   "nbconvert_exporter": "python",
   "pygments_lexer": "ipython3",
   "version": "3.11.7"
  }
 },
 "nbformat": 4,
 "nbformat_minor": 2
}
